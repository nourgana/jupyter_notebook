{
 "cells": [
  {
   "cell_type": "markdown",
   "metadata": {},
   "source": [
    "# NumPy : Tutorial"
   ]
  },
  {
   "cell_type": "markdown",
   "metadata": {},
   "source": [
    "### The numpy ndarray\n",
    "\n",
    "The ndarray is the central data structure in NumPy. It has a _shape_ and _dtype_. \n",
    "\n",
    "**Creating ndarrays**"
   ]
  },
  {
   "cell_type": "code",
   "execution_count": 2,
   "metadata": {},
   "outputs": [],
   "source": [
    "import numpy as np"
   ]
  },
  {
   "cell_type": "code",
   "execution_count": 7,
   "metadata": {},
   "outputs": [
    {
     "name": "stdout",
     "output_type": "stream",
     "text": [
      "[4 2 7 5] int32\n"
     ]
    }
   ],
   "source": [
    "arr1 = np.array([4, 2, 7, 5])\n",
    "print(arr1,arr1.dtype) # # numpy assings a default data type if none was specified"
   ]
  },
  {
   "cell_type": "code",
   "execution_count": 6,
   "metadata": {},
   "outputs": [
    {
     "data": {
      "text/plain": [
       "array([[1. , 5. , 3.6, 5. ],\n",
       "       [3. , 2.8, 3.1, 0. ]])"
      ]
     },
     "execution_count": 6,
     "metadata": {},
     "output_type": "execute_result"
    }
   ],
   "source": [
    "arr2 = np.array(([1, 5, 3.6, 5], [3, 2.8, 3.1, 0])) # nested sequences converted into multi-dimensional arrays\n",
    "arr2"
   ]
  },
  {
   "cell_type": "code",
   "execution_count": 9,
   "metadata": {},
   "outputs": [
    {
     "name": "stdout",
     "output_type": "stream",
     "text": [
      "[[1.  5.  3.6 5. ]\n",
      " [3.  2.8 3.1 0. ]] float64\n"
     ]
    }
   ],
   "source": [
    "print(arr2,arr2.dtype)"
   ]
  },
  {
   "cell_type": "markdown",
   "metadata": {},
   "source": [
    "Here's a list of array-creating methods:\n",
    "\n",
    "| Method          | Description                                                  |\n",
    "| --------------- | ------------------------------------------------------------ |\n",
    "| `array`         | Convert input as a sequence or nested sequences into an array, by infering a dtype or explicitly specifying one. Copies data by default. |\n",
    "| `asarray`       | Convert input to ndarray, but doesn't copy the input if already an ndarray |\n",
    "| `zeros`         | Creates array of zeros of the given shape                    |\n",
    "| `zeros_like`    | Creates array of zeros in same shape as ndarray given        |\n",
    "| `ones`          | As above but with ones                                       |\n",
    "| `ones_like`     | As above but with ones                                       |\n",
    "| `empty`         | Assigns memory to an array of the given shape, but doesn't populate the entries |\n",
    "| `empty_like`    | As before                                                    |\n",
    "| `full`          | Creates an array of given shape and fills with the value specified |\n",
    "| `full_like`     | Like before                                                  |\n",
    "| `arange`        | Similar to the Python `range` function but creates an ndarray |\n",
    "| `eye, identity` | Creates a square N x N identity matrix                       |"
   ]
  },
  {
   "cell_type": "markdown",
   "metadata": {},
   "source": [
    "**Data Types**\n",
    "\n",
    "ndarrays have a dtype, meaning that every element of the array has to be of that type. \n",
    "\n",
    "We can specify this type when creating arrays, and cast arrays to another type:\n"
   ]
  },
  {
   "cell_type": "code",
   "execution_count": 13,
   "metadata": {},
   "outputs": [
    {
     "data": {
      "text/plain": [
       "array([1, 5, 3], dtype=int64)"
      ]
     },
     "execution_count": 13,
     "metadata": {},
     "output_type": "execute_result"
    }
   ],
   "source": [
    "arr1 = np.array([1, 5, 3.6], dtype=np.float64)\n",
    "arr2 = arr1.astype(np.int64) # if I cast a float to an int, the decimals will be truncated\n",
    "arr2"
   ]
  },
  {
   "cell_type": "markdown",
   "metadata": {},
   "source": [
    "**Arithmetic**\n",
    "\n",
    "Addition and subtraction `+`, `-`, multiplication `*`, division `/`, exponentiation `**`, all work element-wise, and with scalars propogate to every element in an array.\n",
    "\n",
    "Comparisons between arrays of the same size yield boolean arrays.\n",
    "\n",
    "Boolean arrays can be passed for indexing - the length must be the same as the array axis it's indexing. Be careful, since this is not checked and will not result in an error if the lengths are different.\n",
    "\n",
    "Selecting data from an array by Boolean indexing *always* creates a copy of the data, even if the returned array is unchanged.\n",
    "\n",
    "That being said, *assignment* does work. For example:"
   ]
  },
  {
   "cell_type": "code",
   "execution_count": 14,
   "metadata": {},
   "outputs": [
    {
     "data": {
      "text/plain": [
       "array([[-0.85523696, -0.1037642 , -1.37480017,  0.36111105],\n",
       "       [ 0.15055906, -0.60772778, -1.05405177,  0.24539816],\n",
       "       [ 0.68902796,  1.35441666, -1.13895374, -0.67067229],\n",
       "       [ 0.45509534, -1.31664131, -0.30864655, -0.86427995],\n",
       "       [-0.94447607,  1.24627579,  1.26213692,  0.34938538],\n",
       "       [ 0.8615183 , -1.02343275, -0.25688663, -2.10729107],\n",
       "       [-0.10069209, -0.4547349 , -1.64836685, -0.71006391]])"
      ]
     },
     "execution_count": 14,
     "metadata": {},
     "output_type": "execute_result"
    }
   ],
   "source": [
    "arr = np.random.randn(7, 4)\n",
    "arr"
   ]
  },
  {
   "cell_type": "code",
   "execution_count": 16,
   "metadata": {},
   "outputs": [
    {
     "data": {
      "text/plain": [
       "array([[0.        , 0.        , 0.        , 0.36111105],\n",
       "       [0.15055906, 0.        , 0.        , 0.24539816],\n",
       "       [0.68902796, 1.35441666, 0.        , 0.        ],\n",
       "       [0.45509534, 0.        , 0.        , 0.        ],\n",
       "       [0.        , 1.24627579, 1.26213692, 0.34938538],\n",
       "       [0.8615183 , 0.        , 0.        , 0.        ],\n",
       "       [0.        , 0.        , 0.        , 0.        ]])"
      ]
     },
     "execution_count": 16,
     "metadata": {},
     "output_type": "execute_result"
    }
   ],
   "source": [
    "arr[arr<0] = 0\n",
    "arr"
   ]
  },
  {
   "cell_type": "markdown",
   "metadata": {},
   "source": [
    "Operations on Boolean arrays:\n",
    "\n",
    "| Operation | Description           |\n",
    "| --------- | --------------------- |\n",
    "| ~         | Element-wise negation |\n",
    "| &         | Element-wise AND      |\n",
    "| \\|        | Element-wise OR       |\n",
    "\n",
    "**Indexing and Slicing**\n",
    "\n",
    "You index a 2D array by rows then columns, like a matrix. For higher dimensional arrays, the dimentions go in order of highest to lowest.\n",
    "\n",
    "All regular indexing and slices are _views_ meaning that they reference the original object and data **is not copied**.\n",
    "\n",
    "Actually, when you index you 'flatten' that dimension, whereas slicing [i:i+1] doesn't flatten it. See the book...\n",
    "\n",
    "**Fancy Indexing**\n",
    "\n",
    "Fancy indexing returns a one-dimensional array of elements corresponding to each tuple of indices passed to it.\n",
    "\n",
    "This behaviour is kind of different to what I expected, which was the return the rectangular section described by the indices passed. Here is one way to get that:\n"
   ]
  },
  {
   "cell_type": "code",
   "execution_count": 19,
   "metadata": {},
   "outputs": [
    {
     "ename": "IndexError",
     "evalue": "index 7 is out of bounds for axis 0 with size 7",
     "output_type": "error",
     "traceback": [
      "\u001b[1;31m---------------------------------------------------------------------------\u001b[0m",
      "\u001b[1;31mIndexError\u001b[0m                                Traceback (most recent call last)",
      "\u001b[1;32m<ipython-input-19-e0ecfc7f5dc0>\u001b[0m in \u001b[0;36m<module>\u001b[1;34m\u001b[0m\n\u001b[1;32m----> 1\u001b[1;33m \u001b[0marr\u001b[0m\u001b[1;33m[\u001b[0m\u001b[1;33m[\u001b[0m\u001b[1;36m1\u001b[0m\u001b[1;33m,\u001b[0m \u001b[1;36m5\u001b[0m\u001b[1;33m,\u001b[0m \u001b[1;36m7\u001b[0m\u001b[1;33m,\u001b[0m \u001b[1;36m2\u001b[0m\u001b[1;33m]\u001b[0m\u001b[1;33m]\u001b[0m\u001b[1;33m[\u001b[0m\u001b[1;33m:\u001b[0m\u001b[1;33m,\u001b[0m \u001b[1;33m[\u001b[0m\u001b[1;36m0\u001b[0m\u001b[1;33m,\u001b[0m \u001b[1;36m3\u001b[0m\u001b[1;33m,\u001b[0m \u001b[1;36m1\u001b[0m\u001b[1;33m,\u001b[0m \u001b[1;36m2\u001b[0m\u001b[1;33m]\u001b[0m\u001b[1;33m]\u001b[0m\u001b[1;33m\u001b[0m\u001b[1;33m\u001b[0m\u001b[0m\n\u001b[0m",
      "\u001b[1;31mIndexError\u001b[0m: index 7 is out of bounds for axis 0 with size 7"
     ]
    }
   ],
   "source": [
    "arr[[1, 5, 7, 2]][:, [0, 3, 1, 2]]"
   ]
  },
  {
   "cell_type": "markdown",
   "metadata": {},
   "source": [
    "**Transposing arrays and swapping axes**\n",
    "\n",
    "Arrays have the `T` attribute and also the `transpose` method.\n",
    "\n",
    "For two dimensional matrices,"
   ]
  },
  {
   "cell_type": "code",
   "execution_count": 22,
   "metadata": {},
   "outputs": [
    {
     "data": {
      "text/plain": [
       "array([[ 0,  1,  2,  3,  4],\n",
       "       [ 5,  6,  7,  8,  9],\n",
       "       [10, 11, 12, 13, 14]])"
      ]
     },
     "execution_count": 22,
     "metadata": {},
     "output_type": "execute_result"
    }
   ],
   "source": [
    "arr = np.arange(15).reshape((3, 5))\n",
    "arr"
   ]
  },
  {
   "cell_type": "code",
   "execution_count": 24,
   "metadata": {},
   "outputs": [
    {
     "data": {
      "text/plain": [
       "array([[ 0,  5, 10],\n",
       "       [ 1,  6, 11],\n",
       "       [ 2,  7, 12],\n",
       "       [ 3,  8, 13],\n",
       "       [ 4,  9, 14]])"
      ]
     },
     "execution_count": 24,
     "metadata": {},
     "output_type": "execute_result"
    }
   ],
   "source": [
    "arr.T"
   ]
  },
  {
   "cell_type": "markdown",
   "metadata": {},
   "source": [
    "In higher dimensions, the `.transpose()` method accepts a tuple of axis numbers to permute the axes.\n",
    "\n",
    "Both methods return a view on the data without making a copy.\n",
    "\n",
    "Transposing with `.T` is a special case of swapping axes. We can use the `.swapaxes` method like this:"
   ]
  },
  {
   "cell_type": "code",
   "execution_count": 25,
   "metadata": {},
   "outputs": [
    {
     "data": {
      "text/plain": [
       "array([[[ 0,  1,  2,  3],\n",
       "        [ 4,  5,  6,  7]],\n",
       "\n",
       "       [[ 8,  9, 10, 11],\n",
       "        [12, 13, 14, 15]]])"
      ]
     },
     "execution_count": 25,
     "metadata": {},
     "output_type": "execute_result"
    }
   ],
   "source": [
    "arr = np.arange(16).reshape(2, 2, 4)\n",
    "arr"
   ]
  },
  {
   "cell_type": "code",
   "execution_count": 27,
   "metadata": {},
   "outputs": [
    {
     "data": {
      "text/plain": [
       "array([[[ 0,  4],\n",
       "        [ 1,  5],\n",
       "        [ 2,  6],\n",
       "        [ 3,  7]],\n",
       "\n",
       "       [[ 8, 12],\n",
       "        [ 9, 13],\n",
       "        [10, 14],\n",
       "        [11, 15]]])"
      ]
     },
     "execution_count": 27,
     "metadata": {},
     "output_type": "execute_result"
    }
   ],
   "source": [
    "arr.swapaxes(1, 2)"
   ]
  },
  {
   "cell_type": "markdown",
   "metadata": {},
   "source": [
    "## Universal Functions\n",
    "\n",
    "Ufuncs are functions that operate element-wise on numpy arrays. Functions that operate on a single array are *binary funcs*. For example, `np.exp` exponentiates each element in the given array. Ufuncs accept second \"out\" argument, which can be used to do operations in-place (`np.exp(arr, arr)`). Binary ufuncs accept two arrays.\n",
    "\n",
    " ## Array oriented programming\n",
    "\n",
    "**Example: Plotting points in 2D**\n",
    "\n",
    "Numpy can be used for accomplashing many tasks that would otherwise require explicit for loops. In the example below, we calculate values of a function for a 2D array of points by writing the sample equation as we would for a single variable."
   ]
  },
  {
   "cell_type": "code",
   "execution_count": 28,
   "metadata": {},
   "outputs": [],
   "source": [
    "points = np.arange(-5, 5, 0.01)\n",
    "xs, ys = np.meshgrid(points, points)\n",
    "z = np.sqrt(xs**2 + ys**2)"
   ]
  },
  {
   "cell_type": "markdown",
   "metadata": {},
   "source": [
    "### Expressing conditional logic as array operations\n",
    "\n",
    "The numpy `where` function is a vectorised ternary operator, and it's very useful. It's usage is the following, for example"
   ]
  },
  {
   "cell_type": "code",
   "execution_count": 29,
   "metadata": {},
   "outputs": [
    {
     "ename": "NameError",
     "evalue": "name 'cond' is not defined",
     "output_type": "error",
     "traceback": [
      "\u001b[1;31m---------------------------------------------------------------------------\u001b[0m",
      "\u001b[1;31mNameError\u001b[0m                                 Traceback (most recent call last)",
      "\u001b[1;32m<ipython-input-29-37d1a29f24d3>\u001b[0m in \u001b[0;36m<module>\u001b[1;34m\u001b[0m\n\u001b[0;32m      1\u001b[0m \u001b[0mxarr\u001b[0m \u001b[1;33m=\u001b[0m \u001b[0mnp\u001b[0m\u001b[1;33m.\u001b[0m\u001b[0marray\u001b[0m\u001b[1;33m(\u001b[0m\u001b[1;33m[\u001b[0m\u001b[1;36m1.1\u001b[0m\u001b[1;33m,\u001b[0m \u001b[1;36m1.2\u001b[0m\u001b[1;33m,\u001b[0m \u001b[1;36m1.3\u001b[0m\u001b[1;33m,\u001b[0m \u001b[1;36m1.4\u001b[0m\u001b[1;33m,\u001b[0m \u001b[1;36m1.5\u001b[0m\u001b[1;33m]\u001b[0m\u001b[1;33m)\u001b[0m\u001b[1;33m\u001b[0m\u001b[1;33m\u001b[0m\u001b[0m\n\u001b[0;32m      2\u001b[0m \u001b[0myarr\u001b[0m \u001b[1;33m=\u001b[0m \u001b[0mnp\u001b[0m\u001b[1;33m.\u001b[0m\u001b[0marray\u001b[0m\u001b[1;33m(\u001b[0m\u001b[1;33m[\u001b[0m\u001b[1;36m2.1\u001b[0m\u001b[1;33m,\u001b[0m \u001b[1;36m2.2\u001b[0m\u001b[1;33m,\u001b[0m \u001b[1;36m2.3\u001b[0m\u001b[1;33m,\u001b[0m \u001b[1;36m2.4\u001b[0m\u001b[1;33m,\u001b[0m \u001b[1;36m2.5\u001b[0m\u001b[1;33m]\u001b[0m\u001b[1;33m)\u001b[0m\u001b[1;33m\u001b[0m\u001b[1;33m\u001b[0m\u001b[0m\n\u001b[1;32m----> 3\u001b[1;33m \u001b[0mresult\u001b[0m \u001b[1;33m=\u001b[0m \u001b[0mnp\u001b[0m\u001b[1;33m.\u001b[0m\u001b[0mwhere\u001b[0m\u001b[1;33m(\u001b[0m\u001b[0mcond\u001b[0m\u001b[1;33m,\u001b[0m \u001b[0mxarr\u001b[0m\u001b[1;33m,\u001b[0m \u001b[0myarr\u001b[0m\u001b[1;33m)\u001b[0m\u001b[1;33m\u001b[0m\u001b[1;33m\u001b[0m\u001b[0m\n\u001b[0m",
      "\u001b[1;31mNameError\u001b[0m: name 'cond' is not defined"
     ]
    }
   ],
   "source": [
    "xarr = np.array([1.1, 1.2, 1.3, 1.4, 1.5])\n",
    "yarr = np.array([2.1, 2.2, 2.3, 2.4, 2.5])\n",
    "result = np.where(cond, xarr, yarr)"
   ]
  },
  {
   "cell_type": "markdown",
   "metadata": {},
   "source": [
    "\n",
    "The second and third arguments to `np.where` don't need to be arrays — they can be scalars as well."
   ]
  },
  {
   "cell_type": "markdown",
   "metadata": {},
   "source": [
    "### Mathematical and Statistical Methods\n",
    "\n",
    "These aggregations or reductions are computed along an axis of a numpy array, and are accessed as methods. E.g. `arr.mean(), arr.std(), arr.sum()` . They accept an argument `axis` that dictates which axis the statistic is applied to. Some methods, such as `cumsum`, return an array of the same dimension but with the aggregated statistics in place of the original.\n",
    "\n",
    "One useful method is `argmax`:"
   ]
  },
  {
   "cell_type": "code",
   "execution_count": 30,
   "metadata": {},
   "outputs": [
    {
     "data": {
      "text/plain": [
       "array([[ 1.64725032,  0.30197226,  0.54899385],\n",
       "       [-0.34416382,  1.47290519, -0.10820525],\n",
       "       [-0.19527361,  0.43223223,  0.03756525],\n",
       "       [-1.40767046,  0.35010838, -0.92279226],\n",
       "       [ 0.38626377,  1.31271785, -1.37355289],\n",
       "       [-1.79066002, -1.7997581 ,  2.53481802],\n",
       "       [ 0.39569092,  0.48268803, -1.08647869],\n",
       "       [ 0.74235976,  0.88843898, -1.65128122],\n",
       "       [-0.44157536,  0.05430078,  0.96585814],\n",
       "       [-0.80827161, -0.29388411, -0.37479984]])"
      ]
     },
     "execution_count": 30,
     "metadata": {},
     "output_type": "execute_result"
    }
   ],
   "source": [
    "arr = np.random.randn(10, 3)\n",
    "arr"
   ]
  },
  {
   "cell_type": "code",
   "execution_count": 32,
   "metadata": {},
   "outputs": [
    {
     "data": {
      "text/plain": [
       "array([0, 1, 1, 1, 1, 2, 1, 1, 2, 1], dtype=int64)"
      ]
     },
     "execution_count": 32,
     "metadata": {},
     "output_type": "execute_result"
    }
   ],
   "source": [
    "arr.argmax(axis=1)"
   ]
  },
  {
   "cell_type": "markdown",
   "metadata": {},
   "source": [
    "### Methods for Boolean Arrays\n",
    "\n",
    "Boolean values are coerced into 1 or 0 for the preceeding methods, so that `.sum` can be used to count true values.\n",
    "\n",
    "Use the methods `any` and `all` to return whether there is at least one true value of if every value is true in the array respectively.\n",
    "\n",
    "### Sorting\n",
    "\n",
    "Like stardard python lists, numpy arrays can be sorted inplace with the `.sort` method. An axis can be passed that will sort values along that axis respectively. A quick and dirty way to compute quantiles of an array is to sort it and select the value at a particular rank.\n",
    "\n",
    "### Unique and other set logic\n",
    "\n",
    "Numpy gives a built-in function for returning a *sorted* unique array."
   ]
  },
  {
   "cell_type": "code",
   "execution_count": 33,
   "metadata": {},
   "outputs": [
    {
     "data": {
      "text/plain": [
       "array(['Eliza', 'Tom', 'Will'], dtype='<U5')"
      ]
     },
     "execution_count": 33,
     "metadata": {},
     "output_type": "execute_result"
    }
   ],
   "source": [
    "names = np.array([\"Will\", \"Tom\", \"Eliza\", \"Will\", \"Tom\"])\n",
    "np.unique(names)"
   ]
  },
  {
   "cell_type": "code",
   "execution_count": 35,
   "metadata": {},
   "outputs": [
    {
     "data": {
      "text/plain": [
       "['Eliza', 'Tom', 'Will']"
      ]
     },
     "execution_count": 35,
     "metadata": {},
     "output_type": "execute_result"
    }
   ],
   "source": [
    "sorted(set(names))"
   ]
  },
  {
   "cell_type": "markdown",
   "metadata": {},
   "source": [
    "Another function, `np.in1d` tests membership of elements of an array in another array:"
   ]
  },
  {
   "cell_type": "code",
   "execution_count": 37,
   "metadata": {},
   "outputs": [
    {
     "data": {
      "text/plain": [
       "array([ True, False, False,  True,  True, False, False])"
      ]
     },
     "execution_count": 37,
     "metadata": {},
     "output_type": "execute_result"
    }
   ],
   "source": [
    "values = [3, 5, 5, 1, 3, 5, 2]\n",
    "np.in1d(values, [1, 3])"
   ]
  },
  {
   "cell_type": "markdown",
   "metadata": {},
   "source": [
    "Here is a list of array set operations.\n",
    "\n",
    "| Method            | Description                                                  |\n",
    "| ----------------- | ------------------------------------------------------------ |\n",
    "| `unique(x)`       | Compute the sorted, unique elements in `x`                   |\n",
    "| `intersect1d`     | Compute the sorted, common elements of `x` and `y`           |\n",
    "| `union1d(x, y)`   | Computed the sorted union of elements                        |\n",
    "| `in1d`            | Compute a Boolean array indicated if each element of `x` is in `y` |\n",
    "| `setdiff1d(x, y)` | Set difference, elements of `x` that are not in `y`          |\n",
    "| `setxor1d(x, y)`  | Symettric difference, elements that are in `x` or `y` but not in both |\n",
    "\n",
    "## File input and output\n",
    "\n",
    "**To save**\n",
    "\n",
    "`np.save` saves an array uncompressed in a binary format, adding the extension `.npy` if it's not already there."
   ]
  },
  {
   "cell_type": "code",
   "execution_count": 38,
   "metadata": {},
   "outputs": [
    {
     "ename": "ValueError",
     "evalue": "The truth value of an array with more than one element is ambiguous. Use a.any() or a.all()",
     "output_type": "error",
     "traceback": [
      "\u001b[1;31m---------------------------------------------------------------------------\u001b[0m",
      "\u001b[1;31mValueError\u001b[0m                                Traceback (most recent call last)",
      "\u001b[1;32m<ipython-input-38-a4b464a746ca>\u001b[0m in \u001b[0;36m<module>\u001b[1;34m\u001b[0m\n\u001b[0;32m      1\u001b[0m \u001b[0marr\u001b[0m \u001b[1;33m=\u001b[0m \u001b[0mnp\u001b[0m\u001b[1;33m.\u001b[0m\u001b[0marange\u001b[0m\u001b[1;33m(\u001b[0m\u001b[1;36m10\u001b[0m\u001b[1;33m)\u001b[0m\u001b[1;33m\u001b[0m\u001b[1;33m\u001b[0m\u001b[0m\n\u001b[0;32m      2\u001b[0m \u001b[0mnp\u001b[0m\u001b[1;33m.\u001b[0m\u001b[0msave\u001b[0m\u001b[1;33m(\u001b[0m\u001b[1;34m\"some_array\"\u001b[0m\u001b[1;33m,\u001b[0m \u001b[0marr\u001b[0m\u001b[1;33m)\u001b[0m\u001b[1;33m\u001b[0m\u001b[1;33m\u001b[0m\u001b[0m\n\u001b[1;32m----> 3\u001b[1;33m \u001b[0mnp\u001b[0m\u001b[1;33m.\u001b[0m\u001b[0mload\u001b[0m\u001b[1;33m(\u001b[0m\u001b[1;34m\"some_array.npy\"\u001b[0m\u001b[1;33m,\u001b[0m \u001b[0marr\u001b[0m\u001b[1;33m)\u001b[0m\u001b[1;33m\u001b[0m\u001b[1;33m\u001b[0m\u001b[0m\n\u001b[0m",
      "\u001b[1;32m~\\Downloads\\Algo1\\lib\\site-packages\\numpy\\lib\\npyio.py\u001b[0m in \u001b[0;36mload\u001b[1;34m(file, mmap_mode, allow_pickle, fix_imports, encoding)\u001b[0m\n\u001b[0;32m    434\u001b[0m         \u001b[1;32melif\u001b[0m \u001b[0mmagic\u001b[0m \u001b[1;33m==\u001b[0m \u001b[0mformat\u001b[0m\u001b[1;33m.\u001b[0m\u001b[0mMAGIC_PREFIX\u001b[0m\u001b[1;33m:\u001b[0m\u001b[1;33m\u001b[0m\u001b[1;33m\u001b[0m\u001b[0m\n\u001b[0;32m    435\u001b[0m             \u001b[1;31m# .npy file\u001b[0m\u001b[1;33m\u001b[0m\u001b[1;33m\u001b[0m\u001b[1;33m\u001b[0m\u001b[0m\n\u001b[1;32m--> 436\u001b[1;33m             \u001b[1;32mif\u001b[0m \u001b[0mmmap_mode\u001b[0m\u001b[1;33m:\u001b[0m\u001b[1;33m\u001b[0m\u001b[1;33m\u001b[0m\u001b[0m\n\u001b[0m\u001b[0;32m    437\u001b[0m                 \u001b[1;32mreturn\u001b[0m \u001b[0mformat\u001b[0m\u001b[1;33m.\u001b[0m\u001b[0mopen_memmap\u001b[0m\u001b[1;33m(\u001b[0m\u001b[0mfile\u001b[0m\u001b[1;33m,\u001b[0m \u001b[0mmode\u001b[0m\u001b[1;33m=\u001b[0m\u001b[0mmmap_mode\u001b[0m\u001b[1;33m)\u001b[0m\u001b[1;33m\u001b[0m\u001b[1;33m\u001b[0m\u001b[0m\n\u001b[0;32m    438\u001b[0m             \u001b[1;32melse\u001b[0m\u001b[1;33m:\u001b[0m\u001b[1;33m\u001b[0m\u001b[1;33m\u001b[0m\u001b[0m\n",
      "\u001b[1;31mValueError\u001b[0m: The truth value of an array with more than one element is ambiguous. Use a.any() or a.all()"
     ]
    }
   ],
   "source": [
    "arr = np.arange(10)\n",
    "np.save(\"some_array\", arr)\n",
    "np.load(\"some_array.npy\", arr)"
   ]
  },
  {
   "cell_type": "markdown",
   "metadata": {},
   "source": [
    "You can save multiple arrays to an uncompressed archive by using `savez` and passing the arrays as keyword arguments:"
   ]
  },
  {
   "cell_type": "code",
   "execution_count": 40,
   "metadata": {},
   "outputs": [],
   "source": [
    "np.savez(\"array_archive.npz\", a = arr1, b = arr2)"
   ]
  },
  {
   "cell_type": "code",
   "execution_count": 42,
   "metadata": {},
   "outputs": [
    {
     "data": {
      "text/plain": [
       "array([1, 5, 3], dtype=int64)"
      ]
     },
     "execution_count": 42,
     "metadata": {},
     "output_type": "execute_result"
    }
   ],
   "source": [
    "archive = np.load(\"array_archive.npz\")\n",
    "archive[\"b\"]"
   ]
  },
  {
   "cell_type": "markdown",
   "metadata": {},
   "source": [
    "If your array compresses well, consider using `np.savez_compressed` instead."
   ]
  },
  {
   "cell_type": "markdown",
   "metadata": {},
   "source": [
    "### Linear Algebra\n",
    "\n",
    "**Multiplying matrices**\n",
    "\n",
    "Use the array method `x.dot(y)`, the numpy function `np.dot(x, y)`, or the `@` infix operator `x @ y`. They're equivalent.\n",
    "\n",
    "**Other functions**\n",
    "\n",
    "Numpy implements standard matrix decompositions and other things like inverses and determinants under the hood using the same industry-standard libraries used in other languages liek MATLAB and R. See the book for a list.\n",
    "\n",
    "### Pseudorandom Number Generation\n",
    "\n",
    "The `numpy.random` module has a several functions for random number generation.\n",
    "\n",
    "| Function    | Description                                      |\n",
    "| ----------- | ------------------------------------------------ |\n",
    "| seed        | Seed the random number generator                 |\n",
    "| permutation | Return a random permutation of a sequence        |\n",
    "| shuffle     | Randomly permute a sequence in-place             |\n",
    "| rand        | Draw a sample from a uniform distribution        |\n",
    "| uniform     | Draw a sample from a [0,1] uniform distribution  |\n",
    "| randn       | Draw samples from a standard normal distribution |\n",
    "| normal      | Draw samples from a normal distribution          |\n",
    "| beta        | Draw samples from a beta distribution            |\n",
    "\n",
    "The data generation in `numpy.random` uses a global random seed. The avoid global state, use `numpy.random.RandomState` to create a random number generator isolated from others:\n"
   ]
  },
  {
   "cell_type": "code",
   "execution_count": 43,
   "metadata": {},
   "outputs": [
    {
     "data": {
      "text/plain": [
       "array([ 0.47143516, -1.19097569,  1.43270697, -0.3126519 , -0.72058873,\n",
       "        0.88716294,  0.85958841, -0.6365235 ,  0.01569637, -2.24268495])"
      ]
     },
     "execution_count": 43,
     "metadata": {},
     "output_type": "execute_result"
    }
   ],
   "source": [
    "rng = np.random.RandomState(1234)\n",
    "rng.randn(10)"
   ]
  }
 ],
 "metadata": {
  "kernelspec": {
   "display_name": "Python 3",
   "language": "python",
   "name": "python3"
  },
  "language_info": {
   "codemirror_mode": {
    "name": "ipython",
    "version": 3
   },
   "file_extension": ".py",
   "mimetype": "text/x-python",
   "name": "python",
   "nbconvert_exporter": "python",
   "pygments_lexer": "ipython3",
   "version": "3.7.3"
  }
 },
 "nbformat": 4,
 "nbformat_minor": 2
}
